{
 "cells": [
  {
   "cell_type": "code",
   "execution_count": 3,
   "metadata": {},
   "outputs": [
    {
     "name": "stderr",
     "output_type": "stream",
     "text": [
      "D:\\Anaconda3\\envs\\imperial\\lib\\site-packages\\numpy\\_distributor_init.py:30: UserWarning: loaded more than 1 DLL from .libs:\n",
      "D:\\Anaconda3\\envs\\imperial\\lib\\site-packages\\numpy\\.libs\\libopenblas.WCDJNK7YVMPZQ2ME2ZZHJJRJ3JIKNDB7.gfortran-win_amd64.dll\n",
      "D:\\Anaconda3\\envs\\imperial\\lib\\site-packages\\numpy\\.libs\\libopenblas.GK7GX5KEQ4F6UYO3P26ULGBQYHGQO7J4.gfortran-win_amd64.dll\n",
      "  warnings.warn(\"loaded more than 1 DLL from .libs:\"\n"
     ]
    }
   ],
   "source": [
    "import numpy as np\n",
    "import pandas as pd\n",
    "\n",
    "from sklearn.decomposition import PCA\n",
    "\n",
    "import matplotlib.pyplot as plt\n",
    "\n",
    "from utils import load_property_data"
   ]
  },
  {
   "cell_type": "code",
   "execution_count": 8,
   "metadata": {},
   "outputs": [],
   "source": [
    "def plot_pca(file):\n",
    "  smiles, labels = load_property_data('e_iso_pi')\n",
    "  invalid_indices = np.argwhere(np.isnan(labels))\n",
    "  \n",
    "  labels = np.delete(labels, invalid_indices)\n",
    "  \n",
    "  features = pd.read_csv(file).to_numpy()[:, 2:]\n",
    "  features = np.delete(features, invalid_indices, axis=0)\n",
    "\n",
    "  pca = PCA(n_components = 2)\n",
    "  components = pca.fit_transform(features)\n",
    "  \n",
    "  print('explained variance: ', pca.explained_variance_ratio_)\n",
    "  plt.scatter(components[:, 0], components[:, 1], c=labels, cmap='bwr')\n",
    "  plt.show()"
   ]
  },
  {
   "cell_type": "code",
   "execution_count": 9,
   "metadata": {},
   "outputs": [
    {
     "name": "stdout",
     "output_type": "stream",
     "text": [
      "(405, 208)\n",
      "(392, 208)\n",
      "explained variance:  [1.00000000e+00 3.32070177e-18]\n"
     ]
    },
    {
     "data": {
      "image/png": "[encoded data removed]",
      "text/plain": [
       "<Figure size 432x288 with 1 Axes>"
      ]
     },
     "metadata": {
      "needs_background": "light"
     },
     "output_type": "display_data"
    }
   ],
   "source": [
    "plot_pca('./processed_data/rdkit_descriptors.csv')"
   ]
  },
  {
   "cell_type": "markdown",
   "metadata": {},
   "source": [
    "### Because I've witnessed this one components explaining all variance, Im wondering if the accuracy of random forest could be improved by using the component as input feature"
   ]
  },
  {
   "cell_type": "code",
   "execution_count": 4,
   "metadata": {},
   "outputs": [
    {
     "name": "stdout",
     "output_type": "stream",
     "text": [
      "\n",
      "Beginning training loop...\n",
      "\n",
      "mean R^2: 0.8591 +- 0.0106\n",
      "mean RMSE: 24.5307 +- 0.6909\n",
      "mean MAE: 15.8197 +- 0.4874\n",
      "\n"
     ]
    }
   ],
   "source": [
    "from utils import load_features_and_labels\n",
    "from models.random_forest import train_rf_model\n",
    "\n",
    "X, y = load_features_and_labels('./processed_data/rdkit_descriptors.csv' ,'e_iso_pi')\n",
    "rf = train_rf_model(X, y)"
   ]
  },
  {
   "cell_type": "code",
   "execution_count": 5,
   "metadata": {},
   "outputs": [
    {
     "name": "stdout",
     "output_type": "stream",
     "text": [
      "\n",
      "Beginning training loop...\n",
      "(PCA) Fraction of variance retained is: 1.0\n",
      "(PCA) Fraction of variance retained is: 1.0\n",
      "(PCA) Fraction of variance retained is: 1.0\n",
      "(PCA) Fraction of variance retained is: 1.0\n",
      "(PCA) Fraction of variance retained is: 1.0\n",
      "(PCA) Fraction of variance retained is: 0.9999999991510152\n",
      "(PCA) Fraction of variance retained is: 1.0\n",
      "(PCA) Fraction of variance retained is: 0.9999999991691269\n",
      "(PCA) Fraction of variance retained is: 0.9999999991543195\n",
      "(PCA) Fraction of variance retained is: 1.0\n",
      "\n",
      "mean R^2: 0.5172 +- 0.0294\n",
      "mean RMSE: 45.6173 +- 1.4758\n",
      "mean MAE: 30.8010 +- 1.0034\n",
      "\n"
     ]
    }
   ],
   "source": [
    "from utils import load_features_and_labels\n",
    "from models.random_forest import train_rf_model\n",
    "\n",
    "X, y = load_features_and_labels('./processed_data/rdkit_descriptors.csv' ,'e_iso_pi')\n",
    "rf = train_rf_model(X, y, n_components=2, use_pca=True)"
   ]
  },
  {
   "cell_type": "markdown",
   "metadata": {},
   "source": [
    "### This turned out to no really be the case :/"
   ]
  },
  {
   "cell_type": "markdown",
   "metadata": {},
   "source": []
  }
 ],
 "metadata": {
  "interpreter": {
   "hash": "7d317a5d13dfd6d48a111319a20b5a57ddf2c23f8f05b5cc94da4f1d645e6500"
  },
  "kernelspec": {
   "display_name": "Python 3.8.5 64-bit ('imperial': conda)",
   "language": "python",
   "name": "python3"
  },
  "language_info": {
   "codemirror_mode": {
    "name": "ipython",
    "version": 3
   },
   "file_extension": ".py",
   "mimetype": "text/x-python",
   "name": "python",
   "nbconvert_exporter": "python",
   "pygments_lexer": "ipython3",
   "version": "3.8.5"
  },
  "orig_nbformat": 4
 },
 "nbformat": 4,
 "nbformat_minor": 2
}
