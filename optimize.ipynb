{
 "cells": [
  {
   "cell_type": "code",
   "execution_count": 1,
   "metadata": {},
   "outputs": [
    {
     "name": "stderr",
     "output_type": "stream",
     "text": [
      "D:\\Anaconda3\\envs\\molbert\\lib\\site-packages\\sklearn\\linear_model\\least_angle.py:30: DeprecationWarning: `np.float` is a deprecated alias for the builtin `float`. To silence this warning, use `float` by itself. Doing this will not modify any behavior and is safe. If you specifically wanted the numpy scalar type, use `np.float64` here.\n",
      "Deprecated in NumPy 1.20; for more details and guidance: https://numpy.org/devdocs/release/1.20.0-notes.html#deprecations\n",
      "  method='lar', copy_X=True, eps=np.finfo(np.float).eps,\n",
      "D:\\Anaconda3\\envs\\molbert\\lib\\site-packages\\sklearn\\linear_model\\least_angle.py:167: DeprecationWarning: `np.float` is a deprecated alias for the builtin `float`. To silence this warning, use `float` by itself. Doing this will not modify any behavior and is safe. If you specifically wanted the numpy scalar type, use `np.float64` here.\n",
      "Deprecated in NumPy 1.20; for more details and guidance: https://numpy.org/devdocs/release/1.20.0-notes.html#deprecations\n",
      "  method='lar', copy_X=True, eps=np.finfo(np.float).eps,\n",
      "D:\\Anaconda3\\envs\\molbert\\lib\\site-packages\\sklearn\\linear_model\\least_angle.py:284: DeprecationWarning: `np.float` is a deprecated alias for the builtin `float`. To silence this warning, use `float` by itself. Doing this will not modify any behavior and is safe. If you specifically wanted the numpy scalar type, use `np.float64` here.\n",
      "Deprecated in NumPy 1.20; for more details and guidance: https://numpy.org/devdocs/release/1.20.0-notes.html#deprecations\n",
      "  eps=np.finfo(np.float).eps, copy_Gram=True, verbose=0,\n",
      "D:\\Anaconda3\\envs\\molbert\\lib\\site-packages\\sklearn\\linear_model\\least_angle.py:862: DeprecationWarning: `np.float` is a deprecated alias for the builtin `float`. To silence this warning, use `float` by itself. Doing this will not modify any behavior and is safe. If you specifically wanted the numpy scalar type, use `np.float64` here.\n",
      "Deprecated in NumPy 1.20; for more details and guidance: https://numpy.org/devdocs/release/1.20.0-notes.html#deprecations\n",
      "  eps=np.finfo(np.float).eps, copy_X=True, fit_path=True,\n",
      "D:\\Anaconda3\\envs\\molbert\\lib\\site-packages\\sklearn\\linear_model\\least_angle.py:1101: DeprecationWarning: `np.float` is a deprecated alias for the builtin `float`. To silence this warning, use `float` by itself. Doing this will not modify any behavior and is safe. If you specifically wanted the numpy scalar type, use `np.float64` here.\n",
      "Deprecated in NumPy 1.20; for more details and guidance: https://numpy.org/devdocs/release/1.20.0-notes.html#deprecations\n",
      "  eps=np.finfo(np.float).eps, copy_X=True, fit_path=True,\n",
      "D:\\Anaconda3\\envs\\molbert\\lib\\site-packages\\sklearn\\linear_model\\least_angle.py:1127: DeprecationWarning: `np.float` is a deprecated alias for the builtin `float`. To silence this warning, use `float` by itself. Doing this will not modify any behavior and is safe. If you specifically wanted the numpy scalar type, use `np.float64` here.\n",
      "Deprecated in NumPy 1.20; for more details and guidance: https://numpy.org/devdocs/release/1.20.0-notes.html#deprecations\n",
      "  eps=np.finfo(np.float).eps, positive=False):\n",
      "D:\\Anaconda3\\envs\\molbert\\lib\\site-packages\\sklearn\\linear_model\\least_angle.py:1362: DeprecationWarning: `np.float` is a deprecated alias for the builtin `float`. To silence this warning, use `float` by itself. Doing this will not modify any behavior and is safe. If you specifically wanted the numpy scalar type, use `np.float64` here.\n",
      "Deprecated in NumPy 1.20; for more details and guidance: https://numpy.org/devdocs/release/1.20.0-notes.html#deprecations\n",
      "  max_n_alphas=1000, n_jobs=None, eps=np.finfo(np.float).eps,\n",
      "D:\\Anaconda3\\envs\\molbert\\lib\\site-packages\\sklearn\\linear_model\\least_angle.py:1602: DeprecationWarning: `np.float` is a deprecated alias for the builtin `float`. To silence this warning, use `float` by itself. Doing this will not modify any behavior and is safe. If you specifically wanted the numpy scalar type, use `np.float64` here.\n",
      "Deprecated in NumPy 1.20; for more details and guidance: https://numpy.org/devdocs/release/1.20.0-notes.html#deprecations\n",
      "  max_n_alphas=1000, n_jobs=None, eps=np.finfo(np.float).eps,\n",
      "D:\\Anaconda3\\envs\\molbert\\lib\\site-packages\\sklearn\\linear_model\\least_angle.py:1738: DeprecationWarning: `np.float` is a deprecated alias for the builtin `float`. To silence this warning, use `float` by itself. Doing this will not modify any behavior and is safe. If you specifically wanted the numpy scalar type, use `np.float64` here.\n",
      "Deprecated in NumPy 1.20; for more details and guidance: https://numpy.org/devdocs/release/1.20.0-notes.html#deprecations\n",
      "  eps=np.finfo(np.float).eps, copy_X=True, positive=False):\n",
      "D:\\Anaconda3\\envs\\molbert\\lib\\site-packages\\sklearn\\decomposition\\online_lda.py:29: DeprecationWarning: `np.float` is a deprecated alias for the builtin `float`. To silence this warning, use `float` by itself. Doing this will not modify any behavior and is safe. If you specifically wanted the numpy scalar type, use `np.float64` here.\n",
      "Deprecated in NumPy 1.20; for more details and guidance: https://numpy.org/devdocs/release/1.20.0-notes.html#deprecations\n",
      "  EPS = np.finfo(np.float).eps\n",
      "D:\\Anaconda3\\envs\\molbert\\lib\\site-packages\\sklearn\\ensemble\\gradient_boosting.py:32: DeprecationWarning: `np.bool` is a deprecated alias for the builtin `bool`. To silence this warning, use `bool` by itself. Doing this will not modify any behavior and is safe. If you specifically wanted the numpy scalar type, use `np.bool_` here.\n",
      "Deprecated in NumPy 1.20; for more details and guidance: https://numpy.org/devdocs/release/1.20.0-notes.html#deprecations\n",
      "  from ._gradient_boosting import predict_stages\n",
      "D:\\Anaconda3\\envs\\molbert\\lib\\site-packages\\sklearn\\ensemble\\gradient_boosting.py:32: DeprecationWarning: `np.bool` is a deprecated alias for the builtin `bool`. To silence this warning, use `bool` by itself. Doing this will not modify any behavior and is safe. If you specifically wanted the numpy scalar type, use `np.bool_` here.\n",
      "Deprecated in NumPy 1.20; for more details and guidance: https://numpy.org/devdocs/release/1.20.0-notes.html#deprecations\n",
      "  from ._gradient_boosting import predict_stages\n"
     ]
    }
   ],
   "source": [
    "import warnings\n",
    "warnings.filterwarnings(\"ignore\")\n",
    "\n",
    "import pandas as pd\n",
    "import numpy as np\n",
    "\n",
    "from utils import load_features_and_labels, plot_pca\n",
    "from models.random_forest import train_rf_model\n",
    "from models.gaussian_process import train_gp_model\n",
    "from lib import generate_smiles\n",
    "\n",
    "from rdkit.Chem import MolFromSmiles\n",
    "from mordred import Calculator, descriptors, error"
   ]
  },
  {
   "cell_type": "markdown",
   "metadata": {},
   "source": [
    "### Generating a library of photoswitches"
   ]
  },
  {
   "cell_type": "code",
   "execution_count": null,
   "metadata": {},
   "outputs": [],
   "source": [
    "parent_mols = [\n",
    "  '[U](C1=CC=C(C=C1)N=NC2=CC=C([U])C=C2)' # azobenzene\n",
    "  'C2(=CC=C([U])[N]2)N=NC3=CC=C([U])[N]3' # bisazopyrrole\n",
    "  'C2(=CC=C([U])[S]2)N=NC3=CC=C([U])[S]3' # bisazothiophene\n",
    "  'C2(=CC=C([U])[O]2)N=NC3=CC=C([U])[O]3' # bisazofuran\n",
    "]\n",
    "\n",
    "linkers = [\n",
    "  '([H])',                                # H-terminus\n",
    "  '(c2ccc([Y])cc2)',                      # benzene\n",
    "  '(c2ncc([Y])cc2)',                      # pyridine\n",
    "  '(c2ncc([Y])cn2)',                      # pyrimidine\n",
    "  '(c2nnc([Y])nn2)',                      # tetrazine\n",
    "  'C2=CC=C([Y])C2',                       # cyclopentadiene\n",
    "  '(c2ccc([Y])N2)',                       # pyrrole (2,5) \n",
    "  '(c2cc([Y])cN2)',                       # pyrrole (2,4) \n",
    "  '(c2ccc([Y])N(C)2)',                    # pyrrole(N-methyl) \n",
    "  '(c2ccc([Y])N(C=O)2)',                  # pyrrole(N-COH)\n",
    "  '(c1cnc([Y])N1)',                       # imidazole\n",
    "  'c2ccc([Y])O2',                         # furan\n",
    "  'c2ccc([Y])S2',                         # thiophene\n",
    "  '(c2ccc([Y])S(=O)(=O)2)',               # thiophene(dioxide)\n",
    "  '(c2sc([Y])cn2)',                       # thiazole (2,5)\n",
    "  '(c2scc([Y])n2)',                       # thiazole (2,4)\n",
    "  '(c1ncc([Y])o1)',                       # oxazole (2,5)\n",
    "  '(c1nc([Y])co1)',                       # oxazole (2,4)\n",
    "  '(C#C[Y])',                             # acetylene\n",
    "  '/C=C/[Y]',                             # ethylene(trans)\n",
    "  '(C=N[Y])'                              # imine\n",
    "] \n",
    "\n",
    "terminals = [\n",
    "  '([H])',                                # hydrogen\n",
    "  '([OH])',                               # hydroxy \n",
    "  '[C](F)(F)F',                           # trifluoromethyl \n",
    "  '[O][C](F)(F)F',                        # trifluoromethoxy \n",
    "  '[C]',                                  # methyl\n",
    "  '[O][C]',                               # methoxy \n",
    "  '[N+]([O-])=O',                         # nitro \n",
    "  '([SH])',                               # thiol \n",
    "  '[F]',                                  # fluoro \n",
    "  '[Cl]',                                 # chloro \n",
    "  'C#N'                                   # cyano \n",
    "]\n",
    "\n",
    "generate_smiles('library_01.txt', parent_mols, linkers, terminals)"
   ]
  },
  {
   "cell_type": "code",
   "execution_count": 2,
   "metadata": {},
   "outputs": [
    {
     "name": "stdout",
     "output_type": "stream",
     "text": [
      "\n",
      "Beginning training loop...\n",
      "(313, 1427) (313, 1)\n",
      "(313, 1427) (313, 1)\n",
      "(313, 1427) (313, 1)\n",
      "(313, 1427) (313, 1)\n",
      "(313, 1427) (313, 1)\n",
      "(313, 1427) (313, 1)\n",
      "(313, 1427) (313, 1)\n",
      "(313, 1427) (313, 1)\n",
      "(313, 1427) (313, 1)\n",
      "(313, 1427) (313, 1)\n",
      "\n",
      "mean R^2: 0.9045 +- 0.0080\n",
      "mean RMSE: 20.1811 +- 0.8257\n",
      "mean MAE: 12.8562 +- 0.4907\n",
      "\n"
     ]
    }
   ],
   "source": [
    "smiles, X, X_p, y = load_features_and_labels('./processed_data/mordred_descriptors.csv' ,'./raw_data/photoswitches.csv' ,'e_iso_pi')\n",
    "model, x_scaler, y_scaler = train_gp_model(X, y)"
   ]
  },
  {
   "cell_type": "code",
   "execution_count": 9,
   "metadata": {},
   "outputs": [
    {
     "name": "stderr",
     "output_type": "stream",
     "text": [
      "100%|██████████| 872/872 [02:09<00:00,  6.76it/s]\n"
     ]
    }
   ],
   "source": [
    "smiles_list = []\n",
    "with open('library_01.txt', 'r') as f:\n",
    "  lines = f.readlines()\n",
    "  for line in lines:\n",
    "    smiles_list.append(line.rstrip())\n",
    "\n",
    "rdkit_mols = [MolFromSmiles(smiles) for smiles in smiles_list]\n",
    "\n",
    "calc = Calculator(descriptors)\n",
    "\n",
    "mordred_descriptors = calc.pandas(rdkit_mols)\n",
    "\n",
    "error_columns = []\n",
    "for i, e in enumerate(mordred_descriptors.dtypes):\n",
    "    if e==\"object\":\n",
    "        error_columns += [i]\n",
    "        \n",
    "mordred_descriptors = mordred_descriptors.drop(mordred_descriptors.columns[error_columns], axis=1)\n",
    "mordred_descriptors = mordred_descriptors.dropna(axis=1)\n",
    "mordred_descriptors.insert(0, \"SMILES\", smiles_list)\n",
    "mordred_descriptors.to_csv('./mordred_descriptors_library_01.csv')"
   ]
  },
  {
   "cell_type": "code",
   "execution_count": 10,
   "metadata": {},
   "outputs": [
    {
     "name": "stdout",
     "output_type": "stream",
     "text": [
      "MAXaaCH\n",
      "MINaaCH\n",
      "MDEC-22\n",
      "MDEC-23\n",
      "Vabc\n"
     ]
    }
   ],
   "source": [
    "df1 = pd.read_csv('./processed_data/mordred_descriptors.csv')\n",
    "original_columns = df1.columns[2:]\n",
    "\n",
    "df2 = pd.read_csv('./mordred_descriptors_library_01.csv')\n",
    "remove_columns = []\n",
    "for column in df2.columns[2:]:\n",
    "  if column not in original_columns:\n",
    "    print(column)\n",
    "    remove_columns.append(column)\n",
    "    \n",
    "df2 = df2.drop(labels=remove_columns, axis=1)\n",
    "\n",
    "df2.to_csv('./mordred_descriptors_library_01.csv')"
   ]
  },
  {
   "cell_type": "code",
   "execution_count": 11,
   "metadata": {},
   "outputs": [],
   "source": [
    "mordred_descriptors = pd.read_csv('mordred_descriptors_library_01.csv')"
   ]
  },
  {
   "cell_type": "code",
   "execution_count": 34,
   "metadata": {},
   "outputs": [
    {
     "ename": "ValueError",
     "evalue": "cannot insert mean, already exists",
     "output_type": "error",
     "traceback": [
      "\u001b[1;31m---------------------------------------------------------------------------\u001b[0m",
      "\u001b[1;31mValueError\u001b[0m                                Traceback (most recent call last)",
      "\u001b[1;32m~\\AppData\\Local\\Temp/ipykernel_10280/30749008.py\u001b[0m in \u001b[0;36m<module>\u001b[1;34m\u001b[0m\n\u001b[0;32m     11\u001b[0m   \u001b[0mscaled_vars\u001b[0m\u001b[1;33m.\u001b[0m\u001b[0mappend\u001b[0m\u001b[1;33m(\u001b[0m\u001b[0my_scaler\u001b[0m\u001b[1;33m.\u001b[0m\u001b[0minverse_transform\u001b[0m\u001b[1;33m(\u001b[0m\u001b[0mvar\u001b[0m\u001b[1;33m)\u001b[0m\u001b[1;33m[\u001b[0m\u001b[1;36m0\u001b[0m\u001b[1;33m]\u001b[0m\u001b[1;33m[\u001b[0m\u001b[1;36m0\u001b[0m\u001b[1;33m]\u001b[0m\u001b[1;33m)\u001b[0m\u001b[1;33m\u001b[0m\u001b[1;33m\u001b[0m\u001b[0m\n\u001b[0;32m     12\u001b[0m \u001b[1;33m\u001b[0m\u001b[0m\n\u001b[1;32m---> 13\u001b[1;33m \u001b[0mmordred_descriptors\u001b[0m\u001b[1;33m.\u001b[0m\u001b[0minsert\u001b[0m\u001b[1;33m(\u001b[0m\u001b[0mloc\u001b[0m\u001b[1;33m=\u001b[0m\u001b[1;36m0\u001b[0m\u001b[1;33m,\u001b[0m \u001b[0mcolumn\u001b[0m\u001b[1;33m=\u001b[0m\u001b[1;34m'mean'\u001b[0m\u001b[1;33m,\u001b[0m \u001b[0mvalue\u001b[0m\u001b[1;33m=\u001b[0m\u001b[0mmeans\u001b[0m\u001b[1;33m)\u001b[0m\u001b[1;33m\u001b[0m\u001b[1;33m\u001b[0m\u001b[0m\n\u001b[0m\u001b[0;32m     14\u001b[0m \u001b[0mmordred_descriptors\u001b[0m\u001b[1;33m.\u001b[0m\u001b[0minsert\u001b[0m\u001b[1;33m(\u001b[0m\u001b[0mloc\u001b[0m\u001b[1;33m=\u001b[0m\u001b[1;36m0\u001b[0m\u001b[1;33m,\u001b[0m \u001b[0mcolumn\u001b[0m\u001b[1;33m=\u001b[0m\u001b[1;34m'var'\u001b[0m\u001b[1;33m,\u001b[0m \u001b[0mvalue\u001b[0m\u001b[1;33m=\u001b[0m\u001b[0mvars\u001b[0m\u001b[1;33m)\u001b[0m\u001b[1;33m\u001b[0m\u001b[1;33m\u001b[0m\u001b[0m\n",
      "\u001b[1;32mD:\\Anaconda3\\envs\\molbert\\lib\\site-packages\\pandas\\core\\frame.py\u001b[0m in \u001b[0;36minsert\u001b[1;34m(self, loc, column, value, allow_duplicates)\u001b[0m\n\u001b[0;32m   4412\u001b[0m         \u001b[1;32mif\u001b[0m \u001b[1;32mnot\u001b[0m \u001b[0mallow_duplicates\u001b[0m \u001b[1;32mand\u001b[0m \u001b[0mcolumn\u001b[0m \u001b[1;32min\u001b[0m \u001b[0mself\u001b[0m\u001b[1;33m.\u001b[0m\u001b[0mcolumns\u001b[0m\u001b[1;33m:\u001b[0m\u001b[1;33m\u001b[0m\u001b[1;33m\u001b[0m\u001b[0m\n\u001b[0;32m   4413\u001b[0m             \u001b[1;31m# Should this be a different kind of error??\u001b[0m\u001b[1;33m\u001b[0m\u001b[1;33m\u001b[0m\u001b[1;33m\u001b[0m\u001b[0m\n\u001b[1;32m-> 4414\u001b[1;33m             \u001b[1;32mraise\u001b[0m \u001b[0mValueError\u001b[0m\u001b[1;33m(\u001b[0m\u001b[1;34mf\"cannot insert {column}, already exists\"\u001b[0m\u001b[1;33m)\u001b[0m\u001b[1;33m\u001b[0m\u001b[1;33m\u001b[0m\u001b[0m\n\u001b[0m\u001b[0;32m   4415\u001b[0m         \u001b[1;32mif\u001b[0m \u001b[1;32mnot\u001b[0m \u001b[0misinstance\u001b[0m\u001b[1;33m(\u001b[0m\u001b[0mloc\u001b[0m\u001b[1;33m,\u001b[0m \u001b[0mint\u001b[0m\u001b[1;33m)\u001b[0m\u001b[1;33m:\u001b[0m\u001b[1;33m\u001b[0m\u001b[1;33m\u001b[0m\u001b[0m\n\u001b[0;32m   4416\u001b[0m             \u001b[1;32mraise\u001b[0m \u001b[0mTypeError\u001b[0m\u001b[1;33m(\u001b[0m\u001b[1;34m\"loc must be int\"\u001b[0m\u001b[1;33m)\u001b[0m\u001b[1;33m\u001b[0m\u001b[1;33m\u001b[0m\u001b[0m\n",
      "\u001b[1;31mValueError\u001b[0m: cannot insert mean, already exists"
     ]
    }
   ],
   "source": [
    "means = []\n",
    "vars = []\n",
    "scaled_vars = []\n",
    "\n",
    "for idx, row in mordred_descriptors.iterrows():\n",
    "  features = row.to_numpy()[4:].reshape(1, -1)\n",
    "  features = x_scaler.transform(features)\n",
    "  mean, var = model.predict_f(features)\n",
    "  means.append(y_scaler.inverse_transform(mean)[0][0])\n",
    "  vars.append(var[0][0].numpy())\n",
    "  scaled_vars.append(y_scaler.inverse_transform(var)[0][0])\n",
    "  \n",
    "# mordred_descriptors.insert(loc=0, column='mean', value=means)\n",
    "# mordred_descriptors.insert(loc=0, column='var', value=vars)"
   ]
  },
  {
   "cell_type": "code",
   "execution_count": 28,
   "metadata": {},
   "outputs": [
    {
     "name": "stdout",
     "output_type": "stream",
     "text": [
      "872 872\n",
      "872\n"
     ]
    }
   ],
   "source": [
    "print(len(means), len(vars))\n",
    "print(len(mordred_descriptors))"
   ]
  },
  {
   "cell_type": "code",
   "execution_count": null,
   "metadata": {},
   "outputs": [],
   "source": [
    "desired_wavelength = 450\n",
    "df_sort = mordred_descriptors.iloc[(mordred_descriptors['mean']-desired_wavelength).abs().argsort()[:2]]"
   ]
  }
 ],
 "metadata": {
  "interpreter": {
   "hash": "221fefb8189e6ba22c4f6b1c3cc4312d42e8d96d1fe9bcf4b50d8a271e4134ce"
  },
  "kernelspec": {
   "display_name": "Python 3.7.12 64-bit ('molbert': conda)",
   "language": "python",
   "name": "python3"
  },
  "language_info": {
   "codemirror_mode": {
    "name": "ipython",
    "version": 3
   },
   "file_extension": ".py",
   "mimetype": "text/x-python",
   "name": "python",
   "nbconvert_exporter": "python",
   "pygments_lexer": "ipython3",
   "version": "3.7.12"
  },
  "orig_nbformat": 4
 },
 "nbformat": 4,
 "nbformat_minor": 2
}
